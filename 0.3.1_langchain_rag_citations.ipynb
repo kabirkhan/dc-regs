{
 "cells": [
  {
   "cell_type": "code",
   "execution_count": null,
   "id": "399e3747-a201-42fe-8301-3bbbcca27dae",
   "metadata": {},
   "outputs": [],
   "source": [
    "pip install -U langchain-community"
   ]
  },
  {
   "cell_type": "code",
   "execution_count": 57,
   "id": "30d93687-b8af-4962-b0d4-602db10a3be4",
   "metadata": {},
   "outputs": [
    {
     "name": "stdin",
     "output_type": "stream",
     "text": [
      " ········\n"
     ]
    }
   ],
   "source": [
    "import os\n",
    "import getpass\n",
    "\n",
    "os.environ[\"OPENAI_API_KEY\"] = getpass.getpass()"
   ]
  },
  {
   "cell_type": "code",
   "execution_count": 60,
   "id": "35920268-cb70-4ffb-a6e8-5b3f25b630ab",
   "metadata": {},
   "outputs": [],
   "source": [
    "from pathlib import Path\n",
    "from operator import itemgetter\n",
    "from langchain.text_splitter import RecursiveCharacterTextSplitter\n",
    "from langchain.document_loaders.directory import DirectoryLoader\n",
    "from langchain.document_loaders.pdf import PyMuPDFLoader\n",
    "from langchain_community.vectorstores import Chroma\n",
    "from langchain_community.vectorstores import FAISS\n",
    "from langchain_core.prompts import ChatPromptTemplate\n",
    "from langchain_openai import ChatOpenAI, OpenAIEmbeddings\n",
    "\n",
    "pdf_dir = Path(\"./data/housing/pdf\")\n",
    "# Load, chunk and index the contents of the blog.\n",
    "loader = DirectoryLoader(pdf_dir, glob=\"*.pdf\", loader_cls=PyMuPDFLoader)\n",
    "docs = loader.load()\n",
    "\n",
    "text_splitter = RecursiveCharacterTextSplitter(chunk_size=1000, chunk_overlap=200)\n",
    "splits = text_splitter.split_documents(docs)"
   ]
  },
  {
   "cell_type": "code",
   "execution_count": 53,
   "id": "3fb94026-3035-4d46-b2ba-b818fcebd9e7",
   "metadata": {},
   "outputs": [
    {
     "name": "stdout",
     "output_type": "stream",
     "text": [
      "Collecting faiss-cpu\n",
      "  Downloading faiss_cpu-1.7.4-cp39-cp39-macosx_11_0_arm64.whl (2.7 MB)\n",
      "\u001b[2K     \u001b[38;2;114;156;31m━━━━━━━━━━━━━━━━━━━━━━━━━━━━━━━━━━━━━━━━\u001b[0m \u001b[32m2.7/2.7 MB\u001b[0m \u001b[31m532.0 kB/s\u001b[0m eta \u001b[36m0:00:00\u001b[0mm eta \u001b[36m0:00:01\u001b[0m[36m0:00:01\u001b[0m\n",
      "\u001b[?25hInstalling collected packages: faiss-cpu\n",
      "Successfully installed faiss-cpu-1.7.4\n",
      "\n",
      "\u001b[1m[\u001b[0m\u001b[34;49mnotice\u001b[0m\u001b[1;39;49m]\u001b[0m\u001b[39;49m A new release of pip is available: \u001b[0m\u001b[31;49m23.3.1\u001b[0m\u001b[39;49m -> \u001b[0m\u001b[32;49m24.0\u001b[0m\n",
      "\u001b[1m[\u001b[0m\u001b[34;49mnotice\u001b[0m\u001b[1;39;49m]\u001b[0m\u001b[39;49m To update, run: \u001b[0m\u001b[32;49mpip install --upgrade pip\u001b[0m\n"
     ]
    }
   ],
   "source": [
    "!pip install faiss-cpu"
   ]
  },
  {
   "cell_type": "code",
   "execution_count": 61,
   "id": "7d93f477-dd87-4410-ad5b-6fe40a59b8ec",
   "metadata": {},
   "outputs": [],
   "source": [
    "text_splitter = RecursiveCharacterTextSplitter(chunk_size=1000, chunk_overlap=200)\n",
    "splits = text_splitter.split_documents(docs)\n",
    "\n",
    "faiss_vectorstore = FAISS.from_documents(\n",
    "    documents=splits, embedding=OpenAIEmbeddings()\n",
    ")"
   ]
  },
  {
   "cell_type": "code",
   "execution_count": 62,
   "id": "5595d1ab-4f64-4ba9-95c0-db7bc1d6297f",
   "metadata": {},
   "outputs": [],
   "source": [
    "faiss_vectorstore.save_local(\"./embeddings/title_14_housing_index/2024-02-09\")"
   ]
  },
  {
   "cell_type": "code",
   "execution_count": 65,
   "id": "d3ca297c-48fc-4e13-878e-a3f7c61b20d3",
   "metadata": {},
   "outputs": [],
   "source": [
    "faiss_vectorstore = FAISS.load_local(\"./embeddings/title_14_housing_index/2024-02-09\", OpenAIEmbeddings())"
   ]
  },
  {
   "cell_type": "code",
   "execution_count": 66,
   "id": "054977b7-1605-4758-a59c-818d65685782",
   "metadata": {},
   "outputs": [
    {
     "name": "stdout",
     "output_type": "stream",
     "text": [
      "================================\u001b[1m System Message \u001b[0m================================\n",
      "\n",
      "You're a helpful Legal AI assistant for answering user questions. Given a user question and some a set of relevant documents from the Washington DC Title 14 Housing regulations provide an answer. If none of the documents answer the question, just say I don't know.\n",
      "\n",
      "Here are the documents relevant to the user question: \u001b[33;1m\u001b[1;3m{context}\u001b[0m\n",
      "\n",
      "================================\u001b[1m Human Message \u001b[0m=================================\n",
      "\n",
      "\u001b[33;1m\u001b[1;3m{question}\u001b[0m\n"
     ]
    }
   ],
   "source": [
    "# Retrieve and generate using the relevant snippets of the blog.\n",
    "retriever = faiss_vectorstore.as_retriever()\n",
    "llm = ChatOpenAI(model_name=\"gpt-3.5-turbo\", temperature=0)\n",
    "\n",
    "prompt = ChatPromptTemplate.from_messages(\n",
    "    [\n",
    "        (\n",
    "            \"system\",\n",
    "            \"You're a helpful Legal AI assistant for answering user questions. Given a user question and some a set of relevant documents from the Washington DC Title 14 Housing regulations provide an answer. If none of the documents answer the question, just say I don't know.\\n\\nHere are the documents relevant to the user question: {context}\",\n",
    "        ),\n",
    "        (\"human\", \"{question}\"),\n",
    "    ]\n",
    ")\n",
    "prompt.pretty_print()"
   ]
  },
  {
   "cell_type": "code",
   "execution_count": 67,
   "id": "57c356aa-9740-4b98-9c08-8818fd3b54b1",
   "metadata": {},
   "outputs": [],
   "source": [
    "from operator import itemgetter\n",
    "from typing import List\n",
    "\n",
    "from langchain_core.documents import Document\n",
    "from langchain_core.output_parsers import StrOutputParser\n",
    "from langchain_core.runnables import (\n",
    "    RunnableLambda,\n",
    "    RunnableParallel,\n",
    "    RunnablePassthrough,\n",
    ")\n",
    "\n",
    "def format_docs(docs: List[Document]) -> str:\n",
    "    \"\"\"Convert Documents to a single string.:\"\"\"\n",
    "    formatted = [\n",
    "        f\"Source ID: {i}\\nDocument Title: {doc.metadata['title']}\\ Document Content: {doc.page_content}\"\n",
    "        for i, doc in enumerate(docs)\n",
    "    ]\n",
    "    return \"\\n\\n\" + \"\\n\\n\".join(formatted)\n",
    "\n",
    "\n"
   ]
  },
  {
   "cell_type": "code",
   "execution_count": 68,
   "id": "20dca1f6-a024-49b2-9ef5-e1d9d88a4768",
   "metadata": {},
   "outputs": [],
   "source": [
    "from langchain_core.pydantic_v1 import BaseModel, Field\n",
    "from langchain.output_parsers.openai_tools import JsonOutputKeyToolsParser\n",
    "\n",
    "\n",
    "class cited_answer(BaseModel):\n",
    "    \"\"\"Answer the user question based only on the given sources, and cite the sources used.\"\"\"\n",
    "\n",
    "    answer: str = Field(\n",
    "        ...,\n",
    "        description=\"The answer to the user question, which is based only on the given sources.\",\n",
    "    )\n",
    "    citations: List[int] = Field(\n",
    "        ...,\n",
    "        description=\"The integer IDs of the SPECIFIC sources which justify the answer.\",\n",
    "    )\n",
    "\n",
    "\n",
    "class Citation(BaseModel):\n",
    "    source_id: int = Field(\n",
    "        ...,\n",
    "        description=\"The integer ID of a SPECIFIC source which justifies the answer.\",\n",
    "    )\n",
    "    quote: str = Field(\n",
    "        ...,\n",
    "        description=\"The VERBATIM quote from the specified source that justifies the answer.\",\n",
    "    )\n",
    "\n",
    "\n",
    "class quoted_answer(BaseModel):\n",
    "    \"\"\"Answer the user question based only on the given sources, and cite the sources used.\"\"\"\n",
    "\n",
    "    answer: str = Field(\n",
    "        ...,\n",
    "        description=\"The answer to the user question, which is based only on the given sources.\",\n",
    "    )\n",
    "    citations: List[Citation] = Field(\n",
    "        ..., description=\"Citations from the given sources that justify the answer.\"\n",
    "    )\n",
    "\n",
    "\n",
    "output_parser = JsonOutputKeyToolsParser(key_name=\"quoted_answer\")\n",
    "llm_with_tool = llm.bind_tools(\n",
    "    [quoted_answer],\n",
    "    tool_choice=\"quoted_answer\",\n",
    ")\n"
   ]
  },
  {
   "cell_type": "code",
   "execution_count": 69,
   "id": "a60586d1-20be-4a06-9f34-b1f3a88d53e0",
   "metadata": {},
   "outputs": [],
   "source": [
    "format = itemgetter(\"docs\") | RunnableLambda(format_docs)\n",
    "# subchain for generating an answer once we've done retrieval\n",
    "answer = prompt | llm_with_tool | output_parser\n",
    "# complete chain that calls wiki -> formats docs to string -> runs answer subchain -> returns just the answer and retrieved docs.\n",
    "chain = (\n",
    "    RunnableParallel(question=RunnablePassthrough(), docs=retriever)\n",
    "    .assign(context=format)\n",
    "    .assign(quoted_answer=answer)\n",
    "    .pick([\"quoted_answer\", \"docs\"])\n",
    ")"
   ]
  },
  {
   "cell_type": "code",
   "execution_count": 70,
   "id": "2114b25b-5ec7-4e2f-b026-552adeca82ab",
   "metadata": {},
   "outputs": [
    {
     "data": {
      "text/plain": [
       "{'quoted_answer': [{'answer': 'If the oven in your apartment is broken, you should contact your landlord or property management company to report the issue. They are responsible for the maintenance and repair of appliances provided with the rental unit. You can refer to the Washington DC Title 14 Housing regulations for more information on the responsibilities of tenants and landlords regarding appliances.',\n",
       "   'citations': [{'source_id': 1,\n",
       "     'quote': '906.3\\nThe operator shall be responsible for the fire-safe installation and maintenance of all heating and cooking appliances furnished by the operator of the housing business.'}]}],\n",
       " 'docs': [Document(page_content='Properly using and operating all electrical, gas, plumbing, and heating fixtures and \\nappliances.\\n802.3\\nA tenant shall not do or permit any person on the premises with the tenant’s permission to do \\nany of the following:\\n(a)\\nWillfully or wantonly destroy, deface, damage, impair, or remove any part of the \\nstructure or dwelling unit; or\\n(b)\\nWillfully or wantonly destroy, deface, damage, impair, or remove any part of the \\nfacilities, equipment, or appurtenances to the dwelling unit.\\n802.4\\nThe tenant of each dwelling unit in multiple dwellings shall provide as needed for the \\ntenant’s own use sufficient, lawful and separate receptacles for the storage of ashes, garbage, \\nand refuse in the tenant’s own unit.\\n802.5\\nAll garbage, refuse, and ashes of each unit shall be placed by the tenant in receptacles and \\ntransferred by the tenant to the designated place of common storage on the premises, unless \\nthe collection and transfer is provided by the operator.', metadata={'source': 'data/housing/pdf/14_14-802_responsibilities-of-tenants.pdf', 'file_path': 'data/housing/pdf/14_14-802_responsibilities-of-tenants.pdf', 'page': 0, 'total_pages': 1, 'format': 'PDF 1.7', 'title': '802', 'author': '微软用户', 'subject': '', 'keywords': '', 'creator': 'Writer', 'producer': 'LibreOffice 24.2', 'creationDate': \"D:20240208114224-08'00'\", 'modDate': '', 'trapped': ''}),\n",
       "  Document(page_content='906\\nHEATING AND COOKING APPLIANCES\\n906.1\\nThe provisions of this section shall apply to all housing businesses.\\n906.2\\nHeating and cooking appliances shall be installed and maintained in accordance with the fire \\nprevention and protection requirements of the applicable D.C. laws and regulations.\\n906.3\\nThe operator shall be responsible for the fire-safe installation and maintenance of all heating \\nand cooking appliances furnished by the operator of the housing business.\\n906.4\\nIf appliances are furnished by the tenant, the tenant shall be responsible for meeting the \\nDistrict’s laws and regulations on fire protection and prevention.\\n906.5\\nOil heaters shall be flue-connected and installed in accordance with the requirements of \\nsection F-308 of Article 3 of the Fire Prevention Code, BOCA Basic/National Fire Prevention \\nCode/1984, 12 DCMR § F-308 (D.C. Supp. 1987).\\n906.6\\nAshes shall not be placed in combustible receptacles, nor on or against combustible \\nmaterials.\\n906.7', metadata={'source': 'data/housing/pdf/14_14-906_heating-and-cooking-appliances.pdf', 'file_path': 'data/housing/pdf/14_14-906_heating-and-cooking-appliances.pdf', 'page': 0, 'total_pages': 1, 'format': 'PDF 1.7', 'title': '906', 'author': '微软用户', 'subject': '', 'keywords': '', 'creator': 'Writer', 'producer': 'LibreOffice 24.2', 'creationDate': \"D:20240208112950-08'00'\", 'modDate': '', 'trapped': ''}),\n",
       "  Document(page_content='5215\\nSEPARATE AGREEMENTS\\n5215.1\\nOwners and tenants may execute agreements for services, appliances (other than \\nfor range and refrigerator), and other items outside those which are provided \\nunder the lease if the agreement is in writing and approved by DCHA.\\n5215.2\\nAny appliance, service, or other item which is routinely provided to \\nnonsubsidized tenants as part of the lease (such as air conditioning, dishwasher, or \\ngarage) or are permanently installed in the unit cannot be put under separate \\nagreement and shall be included in the lease.  For there to be a separate \\nagreement, the tenant shall have the option of not utilizing the service, appliance, \\nor other item.\\n5215.3\\nDCHA is not liable for unpaid charges for items covered by separate agreements \\nand nonpayment of these agreements cannot be cause for eviction.\\n5215.4\\nIf the tenant and owner have come to an agreement on the amount of Charges for \\na specific item, so long as those charges are reasonable and not a substitute for', metadata={'source': 'data/housing/pdf/14_14-5215_separate-agreements.pdf', 'file_path': 'data/housing/pdf/14_14-5215_separate-agreements.pdf', 'page': 0, 'total_pages': 1, 'format': 'PDF 1.7', 'title': '', 'author': 'Rebecca Katz', 'subject': '', 'keywords': '', 'creator': 'Writer', 'producer': 'LibreOffice 24.2', 'creationDate': \"D:20240208114109-08'00'\", 'modDate': '', 'trapped': ''}),\n",
       "  Document(page_content=\"District of Columbia Municipal Regulations\\n \\n5326\\nEMERGENCY REPAIR ITEMS LIST\\n5326.1\\nThe following items are to be considered of an emergency nature and shall be \\ncorrected by the owner within twenty-four (24) hours of notice by the Inspector: \\n(a)\\nElectrical outlet smoking or sparking;\\n(b)\\nEscaping gas from gas stove;\\n(c)\\nMajor plumbing leaks or flooding;\\n(d)\\nNatural gas leak or fumes;\\n(e)\\nElectrical situation which could result in shock or fire;\\n(f)\\nNo heat when outside temperature is below fifty degrees Farenheit (50º F); \\n(g)\\nLack of utilities; and\\n(h)\\nAny other condition the Inspector deems necessary which may cause a \\nthreat to tenant's health or safety.\\n5326.2\\nIf the owner does not make the required emergency repairs within twenty-four \\n(24) hours of notice of the owner violations, Housing Assistance Payments shall \\nbe abated in accordance with § 5329.  \\n5326.3\\nIf the Family does not make the required emergency repairs within twenty-four\", metadata={'source': 'data/housing/pdf/14_14-5326_emergency-repair-items-list.pdf', 'file_path': 'data/housing/pdf/14_14-5326_emergency-repair-items-list.pdf', 'page': 0, 'total_pages': 1, 'format': 'PDF 1.7', 'title': '5 DCMR § 2100', 'author': 'rebecca.katz', 'subject': '', 'keywords': '', 'creator': 'Writer', 'producer': 'LibreOffice 24.2', 'creationDate': \"D:20240208114703-08'00'\", 'modDate': '', 'trapped': ''})]}"
      ]
     },
     "execution_count": 70,
     "metadata": {},
     "output_type": "execute_result"
    }
   ],
   "source": [
    "chain.invoke(\"what can I do for a broken oven in my apartment?\")"
   ]
  },
  {
   "cell_type": "code",
   "execution_count": 49,
   "id": "e6b9072e-e800-4472-a473-d356b29e96fa",
   "metadata": {},
   "outputs": [
    {
     "data": {
      "text/plain": [
       "{'quoted_answer': [{'answer': 'If the oven in your apartment is broken, you should contact your landlord or property management company to report the issue. They are responsible for the maintenance and repair of appliances provided with the rental unit. You can refer to the Washington DC Title 14 Housing regulations for more information on the responsibilities of tenants and landlords regarding appliances.',\n",
       "   'citations': [{'source_id': 1,\n",
       "     'quote': '906.3\\nThe operator shall be responsible for the fire-safe installation and maintenance of all heating and cooking appliances furnished by the operator of the housing business.'}]}],\n",
       " 'docs': [Document(page_content='Properly using and operating all electrical, gas, plumbing, and heating fixtures and \\nappliances.\\n802.3\\nA tenant shall not do or permit any person on the premises with the tenant’s permission to do \\nany of the following:\\n(a)\\nWillfully or wantonly destroy, deface, damage, impair, or remove any part of the \\nstructure or dwelling unit; or\\n(b)\\nWillfully or wantonly destroy, deface, damage, impair, or remove any part of the \\nfacilities, equipment, or appurtenances to the dwelling unit.\\n802.4\\nThe tenant of each dwelling unit in multiple dwellings shall provide as needed for the \\ntenant’s own use sufficient, lawful and separate receptacles for the storage of ashes, garbage, \\nand refuse in the tenant’s own unit.\\n802.5\\nAll garbage, refuse, and ashes of each unit shall be placed by the tenant in receptacles and \\ntransferred by the tenant to the designated place of common storage on the premises, unless \\nthe collection and transfer is provided by the operator.', metadata={'author': '微软用户', 'creationDate': \"D:20240208114224-08'00'\", 'creator': 'Writer', 'file_path': 'data/housing/pdf/14_14-802_responsibilities-of-tenants.pdf', 'format': 'PDF 1.7', 'keywords': '', 'modDate': '', 'page': 0, 'producer': 'LibreOffice 24.2', 'source': 'data/housing/pdf/14_14-802_responsibilities-of-tenants.pdf', 'subject': '', 'title': '802', 'total_pages': 1, 'trapped': ''}),\n",
       "  Document(page_content='906\\nHEATING AND COOKING APPLIANCES\\n906.1\\nThe provisions of this section shall apply to all housing businesses.\\n906.2\\nHeating and cooking appliances shall be installed and maintained in accordance with the fire \\nprevention and protection requirements of the applicable D.C. laws and regulations.\\n906.3\\nThe operator shall be responsible for the fire-safe installation and maintenance of all heating \\nand cooking appliances furnished by the operator of the housing business.\\n906.4\\nIf appliances are furnished by the tenant, the tenant shall be responsible for meeting the \\nDistrict’s laws and regulations on fire protection and prevention.\\n906.5\\nOil heaters shall be flue-connected and installed in accordance with the requirements of \\nsection F-308 of Article 3 of the Fire Prevention Code, BOCA Basic/National Fire Prevention \\nCode/1984, 12 DCMR § F-308 (D.C. Supp. 1987).\\n906.6\\nAshes shall not be placed in combustible receptacles, nor on or against combustible \\nmaterials.\\n906.7', metadata={'author': '微软用户', 'creationDate': \"D:20240208112950-08'00'\", 'creator': 'Writer', 'file_path': 'data/housing/pdf/14_14-906_heating-and-cooking-appliances.pdf', 'format': 'PDF 1.7', 'keywords': '', 'modDate': '', 'page': 0, 'producer': 'LibreOffice 24.2', 'source': 'data/housing/pdf/14_14-906_heating-and-cooking-appliances.pdf', 'subject': '', 'title': '906', 'total_pages': 1, 'trapped': ''}),\n",
       "  Document(page_content='5215\\nSEPARATE AGREEMENTS\\n5215.1\\nOwners and tenants may execute agreements for services, appliances (other than \\nfor range and refrigerator), and other items outside those which are provided \\nunder the lease if the agreement is in writing and approved by DCHA.\\n5215.2\\nAny appliance, service, or other item which is routinely provided to \\nnonsubsidized tenants as part of the lease (such as air conditioning, dishwasher, or \\ngarage) or are permanently installed in the unit cannot be put under separate \\nagreement and shall be included in the lease.  For there to be a separate \\nagreement, the tenant shall have the option of not utilizing the service, appliance, \\nor other item.\\n5215.3\\nDCHA is not liable for unpaid charges for items covered by separate agreements \\nand nonpayment of these agreements cannot be cause for eviction.\\n5215.4\\nIf the tenant and owner have come to an agreement on the amount of Charges for \\na specific item, so long as those charges are reasonable and not a substitute for', metadata={'author': 'Rebecca Katz', 'creationDate': \"D:20240208114109-08'00'\", 'creator': 'Writer', 'file_path': 'data/housing/pdf/14_14-5215_separate-agreements.pdf', 'format': 'PDF 1.7', 'keywords': '', 'modDate': '', 'page': 0, 'producer': 'LibreOffice 24.2', 'source': 'data/housing/pdf/14_14-5215_separate-agreements.pdf', 'subject': '', 'title': '', 'total_pages': 1, 'trapped': ''}),\n",
       "  Document(page_content=\"District of Columbia Municipal Regulations\\n \\n5326\\nEMERGENCY REPAIR ITEMS LIST\\n5326.1\\nThe following items are to be considered of an emergency nature and shall be \\ncorrected by the owner within twenty-four (24) hours of notice by the Inspector: \\n(a)\\nElectrical outlet smoking or sparking;\\n(b)\\nEscaping gas from gas stove;\\n(c)\\nMajor plumbing leaks or flooding;\\n(d)\\nNatural gas leak or fumes;\\n(e)\\nElectrical situation which could result in shock or fire;\\n(f)\\nNo heat when outside temperature is below fifty degrees Farenheit (50º F); \\n(g)\\nLack of utilities; and\\n(h)\\nAny other condition the Inspector deems necessary which may cause a \\nthreat to tenant's health or safety.\\n5326.2\\nIf the owner does not make the required emergency repairs within twenty-four \\n(24) hours of notice of the owner violations, Housing Assistance Payments shall \\nbe abated in accordance with § 5329.  \\n5326.3\\nIf the Family does not make the required emergency repairs within twenty-four\", metadata={'author': 'rebecca.katz', 'creationDate': \"D:20240208114703-08'00'\", 'creator': 'Writer', 'file_path': 'data/housing/pdf/14_14-5326_emergency-repair-items-list.pdf', 'format': 'PDF 1.7', 'keywords': '', 'modDate': '', 'page': 0, 'producer': 'LibreOffice 24.2', 'source': 'data/housing/pdf/14_14-5326_emergency-repair-items-list.pdf', 'subject': '', 'title': '5 DCMR § 2100', 'total_pages': 1, 'trapped': ''})]}"
      ]
     },
     "execution_count": 49,
     "metadata": {},
     "output_type": "execute_result"
    }
   ],
   "source": [
    "chain.invoke(\"what can I do for a broken oven in my apartment?\")"
   ]
  },
  {
   "cell_type": "code",
   "execution_count": null,
   "id": "39f10b16-4850-45cb-9c10-ece4bc95a4dd",
   "metadata": {},
   "outputs": [],
   "source": []
  }
 ],
 "metadata": {
  "kernelspec": {
   "display_name": "Python 3 (ipykernel)",
   "language": "python",
   "name": "python3"
  },
  "language_info": {
   "codemirror_mode": {
    "name": "ipython",
    "version": 3
   },
   "file_extension": ".py",
   "mimetype": "text/x-python",
   "name": "python",
   "nbconvert_exporter": "python",
   "pygments_lexer": "ipython3",
   "version": "3.9.11"
  }
 },
 "nbformat": 4,
 "nbformat_minor": 5
}
