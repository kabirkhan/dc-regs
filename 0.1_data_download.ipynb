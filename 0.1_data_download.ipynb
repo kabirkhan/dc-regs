{
 "cells": [
  {
   "cell_type": "code",
   "execution_count": null,
   "id": "148966d7-730c-4125-b722-31611d0ae5e1",
   "metadata": {},
   "outputs": [],
   "source": [
    "!pip install -r requirements.txt"
   ]
  },
  {
   "cell_type": "markdown",
   "id": "7988565e-fc9e-4720-af2e-1e3ced4b8d22",
   "metadata": {},
   "source": [
    "# DC Regulations Data Download\n",
    "\n",
    "This notebook \"crawls\" the Washington DC Regulations website data at `https://www.dcregs.dc.gov`. The goal of this notebook is to extract the contained legacy Word Docs as a set of PDFs.\n",
    "\n",
    "The final step of converting from `.doc` to `.pdf` uses the CLI tool `soffice` from LibreOffice. This will need to be installed."
   ]
  },
  {
   "cell_type": "code",
   "execution_count": 183,
   "id": "ba477546-d2f2-425b-90a5-c16df2f6f731",
   "metadata": {},
   "outputs": [],
   "source": [
    "from dataclasses import dataclass\n",
    "from datetime import datetime\n",
    "import subprocess\n",
    "\n",
    "from rich import print\n",
    "from rich.progress import track"
   ]
  },
  {
   "cell_type": "markdown",
   "id": "8c029516-04f6-4c3d-ac89-81818a8ea53c",
   "metadata": {},
   "source": [
    "## Download HTML Pages of Rule lists. \n",
    "\n",
    "Example Rule List Page: https://www.dcregs.dc.gov/Common/DCMR/RuleList.aspx?ChapterNum=14-12\n",
    "\n",
    "This is the rule list for Title 14 (Housing) chapter 12 (\"APARTMENTS AND APARTMENT HOUSES\")"
   ]
  },
  {
   "cell_type": "code",
   "execution_count": 159,
   "id": "c41c7722-6fcf-4d8a-9006-875b5012434f",
   "metadata": {},
   "outputs": [],
   "source": [
    "TITLE_NUM = 14 # title 14 is housing regulations\n",
    "TITLE_14_REG_N = 99 # There are 99 reserved chapters for title 14, this maybe could change? I'm not sure\n",
    "CHAPTER_URL_TMPL = \"https://www.dcregs.dc.gov/Common/DCMR/RuleList.aspx?ChapterNum={}\""
   ]
  },
  {
   "cell_type": "code",
   "execution_count": 148,
   "id": "36ecb157-7b22-449c-9f83-53b5376a81d7",
   "metadata": {
    "scrolled": true
   },
   "outputs": [
    {
     "data": {
      "application/vnd.jupyter.widget-view+json": {
       "model_id": "5c995aab10694041912c80d88e545cbd",
       "version_major": 2,
       "version_minor": 0
      },
      "text/plain": [
       "Output()"
      ]
     },
     "metadata": {},
     "output_type": "display_data"
    },
    {
     "data": {
      "text/html": [
       "<pre style=\"white-space:pre;overflow-x:auto;line-height:normal;font-family:Menlo,'DejaVu Sans Mono',consolas,'Courier New',monospace\"></pre>\n"
      ],
      "text/plain": []
     },
     "metadata": {},
     "output_type": "display_data"
    },
    {
     "data": {
      "text/html": [
       "<pre style=\"white-space:pre;overflow-x:auto;line-height:normal;font-family:Menlo,'DejaVu Sans Mono',consolas,'Courier New',monospace\">\n",
       "</pre>\n"
      ],
      "text/plain": [
       "\n"
      ]
     },
     "metadata": {},
     "output_type": "display_data"
    }
   ],
   "source": [
    "def download_rule_lists(title_num: int, n: int) -> dict[str, BeautifulSoup]:\n",
    "    soups = {}\n",
    "    for i in track(range(n), total=n, description=f\"Downloading Rule List Pages for Title {title_id}\"):\n",
    "        url = CHAPTER_URL_TMPL.format(f\"{title_id}-{i + 1}\")\n",
    "        res = httpx.get(url)\n",
    "        soup = BeautifulSoup(res.text)\n",
    "        soups[url] = soup\n",
    "\n",
    "    return soups\n",
    "\n",
    "soups = download_rule_lists(TITLE_NUM, TITLE_14_REG_N)"
   ]
  },
  {
   "cell_type": "code",
   "execution_count": 160,
   "id": "09853379-cbf1-4dfb-be06-e43edfcb01a0",
   "metadata": {},
   "outputs": [
    {
     "data": {
      "text/plain": [
       "99"
      ]
     },
     "execution_count": 160,
     "metadata": {},
     "output_type": "execute_result"
    }
   ],
   "source": [
    "len(soups)"
   ]
  },
  {
   "cell_type": "code",
   "execution_count": 161,
   "id": "dfeba97f-480a-4ccb-9aa8-0d3aafc50de0",
   "metadata": {},
   "outputs": [],
   "source": [
    "@dataclass\n",
    "class Rule:\n",
    "    \"\"\"Parse result of a rule list table\"\"\"\n",
    "    title_id: int\n",
    "    section_num: str\n",
    "    section_heading: str\n",
    "    download_url: str\n",
    "    effective_date: datetime"
   ]
  },
  {
   "cell_type": "code",
   "execution_count": 172,
   "id": "c180f123-8580-4e6f-98f3-776dad45d205",
   "metadata": {},
   "outputs": [],
   "source": [
    "def extract_rules(soup: BeautifulSoup) -> list[Rule]:\n",
    "    \"\"\"Extract Rule instances from a RuleList.aspx Chapter HTML soup's main table.\n",
    "    The goal is to get a direct download URL to a `.doc` file we can download\n",
    "    \"\"\"\n",
    "    rules_table = soup.find(id=\"ruleTable\")\n",
    "    if not rules_table:\n",
    "        print(f\"Warning: Invalid Page, no rules table here: {url} skipping\")\n",
    "        return []\n",
    "        \n",
    "    rules = []\n",
    "    for row in rules_table.find(\"tbody\").find_all(\"tr\"):\n",
    "        cols = row.find_all(\"td\")\n",
    "        [_, section_num_td, section_heading_td, latest_version_td, effective_date_td] = cols\n",
    "    \n",
    "        section_num = section_num_td.text.strip()\n",
    "        title_id = int(section_num.split(\"-\")[0])\n",
    "    \n",
    "        rule = Rule(\n",
    "            title_id=title_id,\n",
    "            section_num=section_num,\n",
    "            section_heading=section_heading_td.text.strip(),\n",
    "            download_url=latest_version_td.find(\"a\")[\"title\"],\n",
    "            effective_date=effective_date_td.text.strip()\n",
    "        )\n",
    "        rules.append(rule)\n",
    "    return rules"
   ]
  },
  {
   "cell_type": "code",
   "execution_count": 173,
   "id": "6b8c9a6e-1883-4b3f-80bd-b1cb9e54abd2",
   "metadata": {
    "scrolled": true
   },
   "outputs": [
    {
     "name": "stdout",
     "output_type": "stream",
     "text": [
      "Warning: Invalid Page, no rules table here: https://www.dcregs.dc.gov/Common/DCMR/RuleList.aspx?ChapterNum=14-33 skipping\n",
      "Warning: Invalid Page, no rules table here: https://www.dcregs.dc.gov/Common/DCMR/RuleList.aspx?ChapterNum=14-90 skipping\n"
     ]
    },
    {
     "data": {
      "text/plain": [
       "99"
      ]
     },
     "execution_count": 173,
     "metadata": {},
     "output_type": "execute_result"
    }
   ],
   "source": [
    "rules_by_url = {}\n",
    "\n",
    "for url, soup in soups.items():\n",
    "    rules = extract_rules(soup)\n",
    "    rules_by_url[url] = rules\n",
    "\n",
    "len(rules_by_url)"
   ]
  },
  {
   "cell_type": "code",
   "execution_count": 181,
   "id": "3f5fdb25-e7f9-410d-af1a-ad26beb1ddb2",
   "metadata": {},
   "outputs": [
    {
     "data": {
      "text/html": [
       "<pre style=\"white-space:pre;overflow-x:auto;line-height:normal;font-family:Menlo,'DejaVu Sans Mono',consolas,'Courier New',monospace\">Example rule for:  <span style=\"color: #0000ff; text-decoration-color: #0000ff; text-decoration: underline\">https://www.dcregs.dc.gov/Common/DCMR/RuleList.aspx?ChapterNum=14-1</span>\n",
       "</pre>\n"
      ],
      "text/plain": [
       "Example rule for:  \u001b[4;94mhttps://www.dcregs.dc.gov/Common/DCMR/RuleList.aspx?\u001b[0m\u001b[4;94mChapterNum\u001b[0m\u001b[4;94m=\u001b[0m\u001b[4;94m14\u001b[0m\u001b[4;94m-1\u001b[0m\n"
      ]
     },
     "metadata": {},
     "output_type": "display_data"
    },
    {
     "data": {
      "text/html": [
       "<pre style=\"white-space:pre;overflow-x:auto;line-height:normal;font-family:Menlo,'DejaVu Sans Mono',consolas,'Courier New',monospace\"><span style=\"color: #800080; text-decoration-color: #800080; font-weight: bold\">Rule</span><span style=\"font-weight: bold\">(</span>\n",
       "    <span style=\"color: #808000; text-decoration-color: #808000\">title_id</span>=<span style=\"color: #008080; text-decoration-color: #008080; font-weight: bold\">14</span>,\n",
       "    <span style=\"color: #808000; text-decoration-color: #808000\">section_num</span>=<span style=\"color: #008000; text-decoration-color: #008000\">'14-100'</span>,\n",
       "    <span style=\"color: #808000; text-decoration-color: #808000\">section_heading</span>=<span style=\"color: #008000; text-decoration-color: #008000\">'GENERAL PROVISIONS'</span>,\n",
       "    <span style=\"color: #808000; text-decoration-color: #808000\">download_url</span>=<span style=\"color: #008000; text-decoration-color: #008000\">'https://dcregs.dc.gov/Common/DCMR/RuleList.aspx?DownloadFile=2072555F-0000-CD24-BF63-4F4BD0E7E558</span>\n",
       "<span style=\"color: #008000; text-decoration-color: #008000\">'</span>,\n",
       "    <span style=\"color: #808000; text-decoration-color: #808000\">effective_date</span>=<span style=\"color: #008000; text-decoration-color: #008000\">'1/1/1900'</span>\n",
       "<span style=\"font-weight: bold\">)</span>\n",
       "</pre>\n"
      ],
      "text/plain": [
       "\u001b[1;35mRule\u001b[0m\u001b[1m(\u001b[0m\n",
       "    \u001b[33mtitle_id\u001b[0m=\u001b[1;36m14\u001b[0m,\n",
       "    \u001b[33msection_num\u001b[0m=\u001b[32m'14-100'\u001b[0m,\n",
       "    \u001b[33msection_heading\u001b[0m=\u001b[32m'GENERAL PROVISIONS'\u001b[0m,\n",
       "    \u001b[33mdownload_url\u001b[0m=\u001b[32m'https://dcregs.dc.gov/Common/DCMR/RuleList.aspx?\u001b[0m\u001b[32mDownloadFile\u001b[0m\u001b[32m=\u001b[0m\u001b[32m2072555F\u001b[0m\u001b[32m-0000-CD24-BF63-4F4BD0E7E558\u001b[0m\n",
       "\u001b[32m'\u001b[0m,\n",
       "    \u001b[33meffective_date\u001b[0m=\u001b[32m'1/1/1900'\u001b[0m\n",
       "\u001b[1m)\u001b[0m\n"
      ]
     },
     "metadata": {},
     "output_type": "display_data"
    }
   ],
   "source": [
    "print(\"Example rule for: \", list(rules_by_url.items())[0][0])\n",
    "print(list(rules_by_url.items())[0][1][0])"
   ]
  },
  {
   "cell_type": "markdown",
   "id": "abab5c8d-5942-4658-8007-adc6ba8c4f25",
   "metadata": {},
   "source": [
    "## Download all rule files\n",
    "\n",
    "Each rule now has a direct `download_url` we can use. Regulation files are legacy Microsoft Word `.doc` files."
   ]
  },
  {
   "cell_type": "code",
   "execution_count": 182,
   "id": "3c0f793f-169b-4345-977d-de044ab194ec",
   "metadata": {},
   "outputs": [],
   "source": [
    "def download_doc_file(url: str, output_path: Path, chunk_size: int = 1024 * 1024 * 2) -> None:\n",
    "    # default to downloading 2 MB chunks\n",
    "    res = httpx.get(url)\n",
    "    with open(output_path, 'wb') as f:\n",
    "        for chunk in res.iter_bytes():\n",
    "            f.write(chunk)"
   ]
  },
  {
   "cell_type": "markdown",
   "id": "6884e9c2-f9ca-4b53-b02d-40ecbc14db30",
   "metadata": {},
   "source": [
    "## Convert downloaded .doc to PDF\n",
    "\n",
    "There aren't really tools to process legacy `.doc` files so we want to convert these files to PDF for downstream parsing.\n",
    "This function requires LibreOffice which can be installed via HomeBrew on mac and is installed on a lot of linux distributions by default (e.g. Ubuntu).\n",
    "\n",
    "Install on Mac: https://formulae.brew.sh/cask/libreoffice\n",
    "\n",
    "```bash\n",
    "brew install --cask libreoffice\n",
    "```"
   ]
  },
  {
   "cell_type": "code",
   "execution_count": 186,
   "id": "77be510c-f516-4f20-a471-82ed53a33bd3",
   "metadata": {},
   "outputs": [],
   "source": [
    "def convert_to_pdf(working_dir: Path):\n",
    "    working_dir = Path(working_dir)\n",
    "    for path in tqdm(list(working_dir.glob(\"*.doc\"))):\n",
    "        file = path.name\n",
    "        res = subprocess.check_call(\n",
    "            [\"soffice\", \"--headless\", \"--convert-to\", \"pdf\", file], cwd=working_dir \n",
    "        )        "
   ]
  },
  {
   "cell_type": "code",
   "execution_count": 124,
   "id": "50abd9ee-b1b5-43bc-921b-939bfc5b3899",
   "metadata": {},
   "outputs": [
    {
     "name": "stderr",
     "output_type": "stream",
     "text": [
      "  0%|                                                                                               | 0/1 [00:00<?, ?it/s]2024-02-06 17:03:14.623 soffice[38012:4894849] WARNING: Secure coding is automatically enabled for restorable state! However, not on all supported macOS versions of this application. Opt-in to secure coding explicitly by implementing NSApplicationDelegate.applicationSupportsSecureRestorableState:.\n",
      "100%|███████████████████████████████████████████████████████████████████████████████████████| 1/1 [00:01<00:00,  1.28s/it]"
     ]
    },
    {
     "name": "stdout",
     "output_type": "stream",
     "text": [
      "convert /Users/kabirkhan/Documents/dc-housing/data/2072555F-0000-CD24-BF63-4F4BD0E7E558.doc as a Writer document -> /Users/kabirkhan/Documents/dc-housing/data/2072555F-0000-CD24-BF63-4F4BD0E7E558.pdf using filter : writer_pdf_Export\n"
     ]
    },
    {
     "name": "stderr",
     "output_type": "stream",
     "text": [
      "\n"
     ]
    }
   ],
   "source": [
    "convert_to_pdf(\"./data\")"
   ]
  },
  {
   "cell_type": "markdown",
   "id": "6220f870-b8cd-4919-9dc8-efd4ecf1c66a",
   "metadata": {},
   "source": [
    "## Actually download all the rule files.\n",
    "\n",
    "The next 2 steps will take a bit. They are single process/thread and the download could be made faster but be nice to government websites and don't hit them with a bunch of parallel requests."
   ]
  },
  {
   "cell_type": "code",
   "execution_count": null,
   "id": "003f4d25-21fa-4f0e-8af1-56bd950fe787",
   "metadata": {
    "scrolled": true
   },
   "outputs": [],
   "source": [
    "output_dir = Path(\"data/housing\")\n",
    "output_dir.mkdir(parents=True, exist_ok=True)\n",
    "\n",
    "for url, rules in tqdm(list(rules_by_url.items())):\n",
    "    for rule in tqdm(rules):\n",
    "        section_heading = \"-\".join([s.strip().lower() for s in rule.section_heading.split()])\n",
    "        download_file_name = f\"{rule.title_id}_{rule.section_num}_{section_heading}.doc\"\n",
    "        download_file_name = download_file_name.replace(\"/\", \"__\")\n",
    "        download_doc_file(rule.download_url, output_path=output_dir / download_file_name)"
   ]
  },
  {
   "cell_type": "markdown",
   "id": "a62d74c7-4302-439f-b3ea-1b366126909d",
   "metadata": {},
   "source": [
    "## Converts all the .doc rule files in `./data/housing/` into PDF"
   ]
  },
  {
   "cell_type": "code",
   "execution_count": null,
   "id": "c27bb89e-84e9-43b4-876f-baa90b873fea",
   "metadata": {
    "scrolled": true
   },
   "outputs": [],
   "source": [
    "convert_to_pdf(\"./data/housing\")"
   ]
  },
  {
   "cell_type": "code",
   "execution_count": 192,
   "id": "52ce282f-9660-4082-a27b-a3afb1f3369c",
   "metadata": {},
   "outputs": [],
   "source": [
    "!mkdir -p ./data/housing/pdf\n",
    "!mv ./data/housing/*.pdf ./data/housing/pdf/"
   ]
  },
  {
   "cell_type": "code",
   "execution_count": null,
   "id": "ed3f47f3-d005-4b3f-a37b-c8e967a6a3b3",
   "metadata": {},
   "outputs": [],
   "source": []
  }
 ],
 "metadata": {
  "kernelspec": {
   "display_name": "Python 3 (ipykernel)",
   "language": "python",
   "name": "python3"
  },
  "language_info": {
   "codemirror_mode": {
    "name": "ipython",
    "version": 3
   },
   "file_extension": ".py",
   "mimetype": "text/x-python",
   "name": "python",
   "nbconvert_exporter": "python",
   "pygments_lexer": "ipython3",
   "version": "3.9.11"
  }
 },
 "nbformat": 4,
 "nbformat_minor": 5
}
