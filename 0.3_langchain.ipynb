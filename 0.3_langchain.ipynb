{
 "cells": [
  {
   "cell_type": "code",
   "execution_count": null,
   "id": "d67dac7a-cac1-43f7-a0f1-2a61c350436c",
   "metadata": {},
   "outputs": [],
   "source": [
    "!pip install langchain langchain-community langchainhub langchain-openai chromadb bs4"
   ]
  },
  {
   "cell_type": "code",
   "execution_count": null,
   "id": "bd2dfea7-c0a0-4bc6-8cdc-2cd3b5877cf7",
   "metadata": {},
   "outputs": [],
   "source": [
    "!pip install chromadb"
   ]
  },
  {
   "cell_type": "code",
   "execution_count": 3,
   "id": "f4496358-8557-4e2c-b1ef-eec2617d21d7",
   "metadata": {},
   "outputs": [],
   "source": [
    "import os\n",
    "import getpass"
   ]
  },
  {
   "cell_type": "code",
   "execution_count": 4,
   "id": "49a8b10d-7771-4a9f-ae61-90b9792b9ad7",
   "metadata": {},
   "outputs": [
    {
     "name": "stdin",
     "output_type": "stream",
     "text": [
      " ········\n"
     ]
    }
   ],
   "source": [
    "os.environ[\"OPENAI_API_KEY\"] = getpass.getpass()"
   ]
  },
  {
   "cell_type": "code",
   "execution_count": 17,
   "id": "d75b9df0-1f16-440d-b45f-1668e254a021",
   "metadata": {},
   "outputs": [],
   "source": [
    "from pathlib import Path\n",
    "from langchain import hub\n",
    "from operator import itemgetter\n",
    "from langchain.text_splitter import RecursiveCharacterTextSplitter\n",
    "from langchain.document_loaders.directory import DirectoryLoader\n",
    "from langchain.document_loaders.pdf import PyMuPDFLoader\n",
    "from langchain_community.vectorstores import Chroma\n",
    "from langchain_core.output_parsers import StrOutputParser\n",
    "from langchain_core.runnables import RunnablePassthrough\n",
    "from langchain_openai import ChatOpenAI, OpenAIEmbeddings"
   ]
  },
  {
   "cell_type": "code",
   "execution_count": 6,
   "id": "f0a549b8-bfd8-4735-9acf-35cf10cf38e1",
   "metadata": {},
   "outputs": [],
   "source": [
    "pdf_dir = Path(\"./data/housing/pdf\")"
   ]
  },
  {
   "cell_type": "code",
   "execution_count": 20,
   "id": "024556d5-6679-42be-93f4-35ca3be160f5",
   "metadata": {},
   "outputs": [],
   "source": [
    "# Load, chunk and index the contents of the blog.\n",
    "loader = DirectoryLoader(pdf_dir, glob=\"*.pdf\", loader_cls=PyMuPDFLoader)\n",
    "docs = loader.load()\n",
    "\n",
    "text_splitter = RecursiveCharacterTextSplitter(chunk_size=1000, chunk_overlap=200)\n",
    "splits = text_splitter.split_documents(docs)\n",
    "vectorstore = Chroma.from_documents(documents=splits, embedding=OpenAIEmbeddings())\n",
    "\n",
    "# Retrieve and generate using the relevant snippets of the blog.\n",
    "retriever = vectorstore.as_retriever()\n",
    "prompt = hub.pull(\"rlm/rag-prompt\")\n",
    "llm = ChatOpenAI(model_name=\"gpt-3.5-turbo\", temperature=0)\n",
    "\n",
    "\n",
    "def format_docs(docs):\n",
    "    return \"\\n\\n\".join(doc.page_content for doc in docs)"
   ]
  },
  {
   "cell_type": "code",
   "execution_count": 22,
   "id": "60908002-ae6b-4b2f-820b-4271b96c6e77",
   "metadata": {},
   "outputs": [],
   "source": [
    "from langchain_core.runnables import RunnableParallel\n",
    "\n",
    "rag_chain_from_docs = (\n",
    "    RunnablePassthrough.assign(context=(lambda x: format_docs(x[\"context\"])))\n",
    "    | prompt\n",
    "    | llm\n",
    "    | StrOutputParser()\n",
    ")\n",
    "\n",
    "rag_chain_with_source = RunnableParallel(\n",
    "    {\"context\": retriever, \"question\": RunnablePassthrough()}\n",
    ").assign(answer=rag_chain_from_docs)"
   ]
  },
  {
   "cell_type": "code",
   "execution_count": 23,
   "id": "6af7fcb5-9f18-4c84-85c8-5ee2c6782d6a",
   "metadata": {},
   "outputs": [],
   "source": [
    "res = rag_chain_with_source.invoke(\"what can I do for a broken oven in my apartment\")"
   ]
  },
  {
   "cell_type": "code",
   "execution_count": 36,
   "id": "8ace434d-edfd-4a10-aea1-6a26cd3b7d88",
   "metadata": {},
   "outputs": [
    {
     "name": "stdout",
     "output_type": "stream",
     "text": [
      "There are roaches in my apartment\n",
      "If there are roaches in your apartment, it is the responsibility of the occupant to keep the premises free from vermin and rodents. However, if the infestation is caused by the failure of the owner or licensee to maintain the building in a rodent-proof or insect-proof condition, then the extermination should be done by the owner or licensee. The owner or licensee of a two-family or multiple dwelling is also responsible for keeping the common spaces free from vermin and rodents.\n",
      "Sources:\n",
      "data/housing/pdf/14_14-1004_vermin.pdf\n",
      "data/housing/pdf/14_14-805_extermination.pdf\n",
      "====================================================================================================\n",
      "there is moisture inside the wall\n",
      "The interior walls, floors, and ceilings should be structurally sound, free of loose plaster or other loose material, and free of holes and wide cracks. The floors and interior wall surfaces should be reasonably free of dampness, and any dampness should be corrected and maintained in a corrected condition.\n",
      "Sources:\n",
      "data/housing/pdf/14_14-706_interior-walls,-floors,-and-ceilings.pdf\n",
      "data/housing/pdf/14_14-6800_general-provisions.pdf\n",
      "====================================================================================================\n",
      "my carpet was dirty when I moved in\n",
      "I don't know.\n",
      "Sources:\n",
      "data/housing/pdf/14_14-1304_cleaning-and-maintenance-of-rooms.pdf\n",
      "data/housing/pdf/14_14-800_general-provisions.pdf\n",
      "====================================================================================================\n"
     ]
    }
   ],
   "source": [
    "queries = [\n",
    "    # \"what can I do for a broken oven in my apartment?\",\n",
    "    \"There are roaches in my apartment\",\n",
    "    \"there is moisture inside the wall\",\n",
    "    \"my carpet was dirty when I moved in\"\n",
    "]\n",
    "\n",
    "for q in queries:\n",
    "    res = rag_chain_with_source.invoke(q)\n",
    "    print(res[\"question\"])\n",
    "    print(res[\"answer\"])\n",
    "    print(\"Sources:\")\n",
    "    print(\"\\n\".join(set([doc.metadata[\"file_path\"].strip() for doc in res[\"context\"]])))\n",
    "    print(\"=\" * 100)\n",
    "    \n",
    "    "
   ]
  },
  {
   "cell_type": "code",
   "execution_count": null,
   "id": "c267481f-7ffc-426a-b3aa-4ca331efa85d",
   "metadata": {},
   "outputs": [],
   "source": []
  }
 ],
 "metadata": {
  "kernelspec": {
   "display_name": "Python 3 (ipykernel)",
   "language": "python",
   "name": "python3"
  },
  "language_info": {
   "codemirror_mode": {
    "name": "ipython",
    "version": 3
   },
   "file_extension": ".py",
   "mimetype": "text/x-python",
   "name": "python",
   "nbconvert_exporter": "python",
   "pygments_lexer": "ipython3",
   "version": "3.9.11"
  }
 },
 "nbformat": 4,
 "nbformat_minor": 5
}
