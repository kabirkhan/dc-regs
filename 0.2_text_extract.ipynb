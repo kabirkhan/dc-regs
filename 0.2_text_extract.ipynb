{
 "cells": [
  {
   "cell_type": "code",
   "execution_count": null,
   "id": "0cfdc67c-e2f8-46c3-ba11-2ac9bd032b84",
   "metadata": {},
   "outputs": [],
   "source": [
    "!pip install pymupdf"
   ]
  },
  {
   "cell_type": "code",
   "execution_count": 100,
   "id": "fd11b5f8-eb3c-401f-8911-9fa2627cefe1",
   "metadata": {},
   "outputs": [],
   "source": [
    "import fitz\n",
    "from pathlib import Path\n",
    "\n",
    "def convert_pdf_to_text(doc: fitz.Document, output_dir: Path):\n",
    "    \"\"\"Use fitz (pymupdf) to extract text from PDF and save to .txt output file\"\"\"\n",
    "    output_dir = Path(output_dir)\n",
    "    output_dir.mkdir(exist_ok=True, parents=True)\n",
    "    input_path = Path(doc.name)\n",
    "    filename = input_path.stem + \".txt\"\n",
    "    \n",
    "    out = open(output_dir / filename, \"wb\") # create a text output\n",
    "    for page in doc: # iterate the document pages\n",
    "    \ttext = page.get_text().encode(\"utf8\") # get plain text (is in UTF-8)\n",
    "    \tout.write(text) # write text of page\n",
    "    \tout.write(bytes((12,))) # write page delimiter (form feed 0x0C)\n",
    "    out.close()\n",
    "    "
   ]
  },
  {
   "cell_type": "code",
   "execution_count": 99,
   "id": "6adaa0ab-10f1-4d8b-b763-73de2b5e2372",
   "metadata": {},
   "outputs": [],
   "source": [
    "doc = fitz.open(\"./data/housing/pdf/14_14-100_general-provisions.pdf\")\n",
    "convert_pdf_to_text(doc, \"./data/housing/txt\")"
   ]
  },
  {
   "cell_type": "code",
   "execution_count": 101,
   "id": "65b09471-5537-4feb-ba00-9204d8674dd6",
   "metadata": {},
   "outputs": [],
   "source": [
    "pdfs_dir = Path(\"./data/housing/pdf\")\n",
    "output_dir = Path(\"./data/housing/txt\")\n",
    "\n",
    "for pdf_file in pdfs_dir.glob(\"*.pdf\"):\n",
    "    doc = fitz.open(pdf_file)\n",
    "    convert_pdf_to_text(doc, output_dir=output_dir)"
   ]
  },
  {
   "cell_type": "code",
   "execution_count": null,
   "id": "0816b013-ab57-4bbd-b54e-d201b4ad2fed",
   "metadata": {},
   "outputs": [],
   "source": []
  }
 ],
 "metadata": {
  "kernelspec": {
   "display_name": "Python 3 (ipykernel)",
   "language": "python",
   "name": "python3"
  },
  "language_info": {
   "codemirror_mode": {
    "name": "ipython",
    "version": 3
   },
   "file_extension": ".py",
   "mimetype": "text/x-python",
   "name": "python",
   "nbconvert_exporter": "python",
   "pygments_lexer": "ipython3",
   "version": "3.9.11"
  }
 },
 "nbformat": 4,
 "nbformat_minor": 5
}
